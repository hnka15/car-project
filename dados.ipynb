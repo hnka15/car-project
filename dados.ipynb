{
 "cells": [
  {
   "cell_type": "code",
   "execution_count": 19,
   "metadata": {},
   "outputs": [],
   "source": [
    "import pandas as pd\n",
    "import numpy as np\n",
    "\n"
   ]
  },
  {
   "cell_type": "code",
   "execution_count": 7,
   "metadata": {},
   "outputs": [],
   "source": [
    "df = pd.read_csv('/home/hiankarodrigues/Documentos/ICAR/TABELASICAR2024.csv', sep=';')\n"
   ]
  },
  {
   "cell_type": "code",
   "execution_count": 8,
   "metadata": {},
   "outputs": [
    {
     "data": {
      "text/html": [
       "<div>\n",
       "<style scoped>\n",
       "    .dataframe tbody tr th:only-of-type {\n",
       "        vertical-align: middle;\n",
       "    }\n",
       "\n",
       "    .dataframe tbody tr th {\n",
       "        vertical-align: top;\n",
       "    }\n",
       "\n",
       "    .dataframe thead th {\n",
       "        text-align: right;\n",
       "    }\n",
       "</style>\n",
       "<table border=\"1\" class=\"dataframe\">\n",
       "  <thead>\n",
       "    <tr style=\"text-align: right;\">\n",
       "      <th></th>\n",
       "      <th>cod_imovel,C,254</th>\n",
       "      <th>mod_fiscal,N,19,11</th>\n",
       "      <th>num_area,N,19,11</th>\n",
       "      <th>municipio,C,254</th>\n",
       "      <th>nome_propr,C,254</th>\n",
       "      <th>cpf_cnpj,C,254</th>\n",
       "      <th>proprietar,C,254</th>\n",
       "      <th>situacao,C,254</th>\n",
       "      <th>Shape_Leng,N,19,11</th>\n",
       "      <th>Shape_Area,N,19,11</th>\n",
       "    </tr>\n",
       "  </thead>\n",
       "  <tbody>\n",
       "    <tr>\n",
       "      <th>0</th>\n",
       "      <td>GO-5214408-3AEF2043582E40238C0F84A553686CA7</td>\n",
       "      <td>5,4378</td>\n",
       "      <td>119,6326</td>\n",
       "      <td>Nazario</td>\n",
       "      <td>FAZENDA BURITI</td>\n",
       "      <td>147.327.341-20\\n187.009.181-72\\n263.588.241-04...</td>\n",
       "      <td>ALZIRA GONCALVES RIOS ROSA\\nDORCILIA GONCALVES...</td>\n",
       "      <td>Ativo</td>\n",
       "      <td>0,0420335779375</td>\n",
       "      <td>0,00010106469647</td>\n",
       "    </tr>\n",
       "    <tr>\n",
       "      <th>1</th>\n",
       "      <td>GO-5214903-7F58049BD79046E9A904CC81C5AC177A</td>\n",
       "      <td>0,2784</td>\n",
       "      <td>19,4883</td>\n",
       "      <td>Nova Roma</td>\n",
       "      <td>FAZENDA AREIAS</td>\n",
       "      <td>147.327.341-20\\n187.009.181-72\\n263.588.241-04...</td>\n",
       "      <td>ALZIRIA GONCALVES RIOS ROSA\\nDORCILIA GONCALVE...</td>\n",
       "      <td>Pendente</td>\n",
       "      <td>0,0181617256839</td>\n",
       "      <td>0,0000161659671146</td>\n",
       "    </tr>\n",
       "    <tr>\n",
       "      <th>2</th>\n",
       "      <td>GO-5204409-79418BE625514399A28DC302DC17F013</td>\n",
       "      <td>3,2933</td>\n",
       "      <td>197,5993</td>\n",
       "      <td>Caiaponia</td>\n",
       "      <td>Fazenda Estreito</td>\n",
       "      <td>192.734.441-72</td>\n",
       "      <td>Paulo Cezar Dias</td>\n",
       "      <td>Pendente</td>\n",
       "      <td>0,054822994992</td>\n",
       "      <td>0,000167666721752</td>\n",
       "    </tr>\n",
       "    <tr>\n",
       "      <th>3</th>\n",
       "      <td>GO-5219308-6478196E75CF4F65800ACA0758575820</td>\n",
       "      <td>1,1467</td>\n",
       "      <td>22,934</td>\n",
       "      <td>Santa Helena de Goias</td>\n",
       "      <td>SÃO TOMAZ- COQUEIROS</td>\n",
       "      <td>089.125.641-53</td>\n",
       "      <td>Espolio  de Salumar Soares dos Santos</td>\n",
       "      <td>Pendente</td>\n",
       "      <td>0,0262813010889</td>\n",
       "      <td>0,0000195163218233</td>\n",
       "    </tr>\n",
       "    <tr>\n",
       "      <th>4</th>\n",
       "      <td>GO-5203939-24B66714683B47D1A96ED4AB5541A78D</td>\n",
       "      <td>1,6983</td>\n",
       "      <td>37,3628</td>\n",
       "      <td>Buriti de Goias</td>\n",
       "      <td>FAZENDA CANA BRAVA DE BAIXO</td>\n",
       "      <td>653.814.916-20</td>\n",
       "      <td>CARLOS PEREIRA FILHO</td>\n",
       "      <td>Ativo</td>\n",
       "      <td>0,0295190031277</td>\n",
       "      <td>0,0000315240177641</td>\n",
       "    </tr>\n",
       "  </tbody>\n",
       "</table>\n",
       "</div>"
      ],
      "text/plain": [
       "                              cod_imovel,C,254 mod_fiscal,N,19,11  \\\n",
       "0  GO-5214408-3AEF2043582E40238C0F84A553686CA7             5,4378   \n",
       "1  GO-5214903-7F58049BD79046E9A904CC81C5AC177A             0,2784   \n",
       "2  GO-5204409-79418BE625514399A28DC302DC17F013             3,2933   \n",
       "3  GO-5219308-6478196E75CF4F65800ACA0758575820             1,1467   \n",
       "4  GO-5203939-24B66714683B47D1A96ED4AB5541A78D             1,6983   \n",
       "\n",
       "  num_area,N,19,11        municipio,C,254             nome_propr,C,254  \\\n",
       "0         119,6326                Nazario               FAZENDA BURITI   \n",
       "1          19,4883              Nova Roma               FAZENDA AREIAS   \n",
       "2         197,5993              Caiaponia             Fazenda Estreito   \n",
       "3           22,934  Santa Helena de Goias         SÃO TOMAZ- COQUEIROS   \n",
       "4          37,3628        Buriti de Goias  FAZENDA CANA BRAVA DE BAIXO   \n",
       "\n",
       "                                      cpf_cnpj,C,254  \\\n",
       "0  147.327.341-20\\n187.009.181-72\\n263.588.241-04...   \n",
       "1  147.327.341-20\\n187.009.181-72\\n263.588.241-04...   \n",
       "2                                     192.734.441-72   \n",
       "3                                     089.125.641-53   \n",
       "4                                     653.814.916-20   \n",
       "\n",
       "                                    proprietar,C,254 situacao,C,254  \\\n",
       "0  ALZIRA GONCALVES RIOS ROSA\\nDORCILIA GONCALVES...          Ativo   \n",
       "1  ALZIRIA GONCALVES RIOS ROSA\\nDORCILIA GONCALVE...       Pendente   \n",
       "2                                   Paulo Cezar Dias       Pendente   \n",
       "3              Espolio  de Salumar Soares dos Santos       Pendente   \n",
       "4                               CARLOS PEREIRA FILHO          Ativo   \n",
       "\n",
       "  Shape_Leng,N,19,11  Shape_Area,N,19,11  \n",
       "0    0,0420335779375    0,00010106469647  \n",
       "1    0,0181617256839  0,0000161659671146  \n",
       "2     0,054822994992   0,000167666721752  \n",
       "3    0,0262813010889  0,0000195163218233  \n",
       "4    0,0295190031277  0,0000315240177641  "
      ]
     },
     "execution_count": 8,
     "metadata": {},
     "output_type": "execute_result"
    }
   ],
   "source": [
    "df.head()"
   ]
  },
  {
   "cell_type": "code",
   "execution_count": 10,
   "metadata": {},
   "outputs": [
    {
     "name": "stdout",
     "output_type": "stream",
     "text": [
      "Valores duplicados encontrados (usando duplicated()):\n",
      "                                   cod_imovel,C,254 mod_fiscal,N,19,11  \\\n",
      "1986    GO-5202809-B19D82D9019F406E8104A690DB61D84F             0,0606   \n",
      "2003    GO-5202809-B19D82D9019F406E8104A690DB61D84F             0,0606   \n",
      "3295    GO-5208004-1CC469FCA69849DC983A57D4A0E7DFDA             3,8305   \n",
      "22415   GO-5201108-2AB72D1239FF496E84F3470A459B9D63             1,2226   \n",
      "22478   GO-5201108-2AB72D1239FF496E84F3470A459B9D63             1,2226   \n",
      "...                                             ...                ...   \n",
      "211028  GO-5205406-645D4D3A878C470488E8C0DB872A58E3             1,1148   \n",
      "212797  GO-5217708-68E12D8B950C4B848B167881C16083AE             1,1565   \n",
      "212799  GO-5217708-68E12D8B950C4B848B167881C16083AE             1,1565   \n",
      "213008  GO-5212501-AB299135E4794DB480DA721E00695915             9,7501   \n",
      "213009  GO-5212501-AB299135E4794DB480DA721E00695915             9,7501   \n",
      "\n",
      "       num_area,N,19,11 municipio,C,254                     nome_propr,C,254  \\\n",
      "1986             1,2127    Avelinopolis                        SITIO VITORIA   \n",
      "2003             1,2127    Avelinopolis                        SITIO VITORIA   \n",
      "3295           153,2191         Formosa    FAZENDA SACÃO DENOMINADA ITATIAIA   \n",
      "22415            19,561        Anapolis      CHÁCARA NOSSA SENHORA APARECIDA   \n",
      "22478            19,561        Anapolis      CHÁCARA NOSSA SENHORA APARECIDA   \n",
      "...                 ...             ...                                  ...   \n",
      "211028          22,2953           Ceres                     SITIO DA FARTURA   \n",
      "212797           40,476       Pontalina  FAZENDA SÃO LOURENÇO DAS GUARIROBAS   \n",
      "212799           40,476       Pontalina  FAZENDA SÃO LOURENÇO DAS GUARIROBAS   \n",
      "213008         390,0058        Luziania                      Fazenda Corumbá   \n",
      "213009         390,0058        Luziania                      Fazenda Corumbá   \n",
      "\n",
      "                        cpf_cnpj,C,254  \\\n",
      "1986    449.224.931-15\\n927.399.381-87   \n",
      "2003    449.224.931-15\\n927.399.381-87   \n",
      "3295                    419.361.401-87   \n",
      "22415   851.354.961-49\\n931.955.671-72   \n",
      "22478   851.354.961-49\\n931.955.671-72   \n",
      "...                                ...   \n",
      "211028                  895.980.831-87   \n",
      "212797                  282.913.441-91   \n",
      "212799                  282.913.441-91   \n",
      "213008              03.602.262/0001-14   \n",
      "213009              03.602.262/0001-14   \n",
      "\n",
      "                                  proprietar,C,254 situacao,C,254  \\\n",
      "1986       JOSE EDUARDO FILHO\\nMARIA MORAIS VIEIRA          Ativo   \n",
      "2003       JOSE EDUARDO FILHO\\nMARIA MORAIS VIEIRA          Ativo   \n",
      "3295                     SILVIO GONÇALVES DOS REIS          Ativo   \n",
      "22415   LUIZ MÁRCIO SILVA\\nWANDERSON CLAYTON SILVA          Ativo   \n",
      "22478   LUIZ MÁRCIO SILVA\\nWANDERSON CLAYTON SILVA          Ativo   \n",
      "...                                            ...            ...   \n",
      "211028                       LUCIMAR ALVES AMANCIO       Pendente   \n",
      "212797                          JOÃO BATISTA NEVES          Ativo   \n",
      "212799                          JOÃO BATISTA NEVES          Ativo   \n",
      "213008              JR Turismo e Ecologia Ltda EPP          Ativo   \n",
      "213009              JR Turismo e Ecologia Ltda EPP          Ativo   \n",
      "\n",
      "       Shape_Leng,N,19,11   Shape_Area,N,19,11  \n",
      "1986     0,00508124863956  0,00000102661540185  \n",
      "2003     0,00508124863956  0,00000102661540185  \n",
      "3295      0,0534907883228    0,000128642308532  \n",
      "22415     0,0231880523987    0,000016527053021  \n",
      "22478     0,0231880523987    0,000016527053021  \n",
      "...                   ...                  ...  \n",
      "211028    0,0196728318263   0,0000187572526692  \n",
      "212797       0,0314048093   0,0000344457709498  \n",
      "212799       0,0314048093   0,0000344457709498  \n",
      "213008    0,0951144693516     0,00032923910956  \n",
      "213009    0,0951144693516     0,00032923910956  \n",
      "\n",
      "[89 rows x 10 columns]\n"
     ]
    }
   ],
   "source": [
    "duplicados = df[df['cod_imovel,C,254'].duplicated(keep=False)]\n",
    "print(\"Valores duplicados encontrados (usando duplicated()):\")\n",
    "print(duplicados)"
   ]
  },
  {
   "cell_type": "code",
   "execution_count": 14,
   "metadata": {},
   "outputs": [
    {
     "name": "stdout",
     "output_type": "stream",
     "text": [
      "\n",
      "Valores duplicados encontrados (usando value_counts()):\n",
      "44\n"
     ]
    }
   ],
   "source": [
    "frequencia = df['cod_imovel,C,254'].value_counts()\n",
    "duplicados_value_counts = frequencia[frequencia > 1]\n",
    "print(\"\\nValores duplicados encontrados (usando value_counts()):\")\n",
    "print(len(duplicados_value_counts))"
   ]
  },
  {
   "cell_type": "code",
   "execution_count": 24,
   "metadata": {},
   "outputs": [],
   "source": [
    "total = duplicados_value_counts.sum()"
   ]
  },
  {
   "cell_type": "code",
   "execution_count": 25,
   "metadata": {},
   "outputs": [
    {
     "data": {
      "text/plain": [
       "89"
      ]
     },
     "execution_count": 25,
     "metadata": {},
     "output_type": "execute_result"
    }
   ],
   "source": [
    "total"
   ]
  }
 ],
 "metadata": {
  "kernelspec": {
   "display_name": ".venv",
   "language": "python",
   "name": "python3"
  },
  "language_info": {
   "codemirror_mode": {
    "name": "ipython",
    "version": 3
   },
   "file_extension": ".py",
   "mimetype": "text/x-python",
   "name": "python",
   "nbconvert_exporter": "python",
   "pygments_lexer": "ipython3",
   "version": "3.12.3"
  }
 },
 "nbformat": 4,
 "nbformat_minor": 2
}
